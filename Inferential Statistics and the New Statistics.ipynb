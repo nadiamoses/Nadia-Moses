{
 "cells": [
  {
   "cell_type": "markdown",
   "metadata": {},
   "source": [
    "# Inferential Statistics and the \"New Statistics\""
   ]
  },
  {
   "cell_type": "markdown",
   "metadata": {},
   "source": [
    "Correlation Analysis"
   ]
  },
  {
   "cell_type": "code",
   "execution_count": 1,
   "metadata": {},
   "outputs": [],
   "source": [
    "#Importing libraries\n",
    "import pandas as pd\n",
    "import numpy as np\n",
    "import seaborn as sns\n",
    "import matplotlib.pyplot as plt\n",
    "import scipy.stats as scipy\n",
    "import scipy.stats.distributions as dist"
   ]
  },
  {
   "cell_type": "code",
   "execution_count": 2,
   "metadata": {},
   "outputs": [
    {
     "data": {
      "text/html": [
       "<div>\n",
       "<style scoped>\n",
       "    .dataframe tbody tr th:only-of-type {\n",
       "        vertical-align: middle;\n",
       "    }\n",
       "\n",
       "    .dataframe tbody tr th {\n",
       "        vertical-align: top;\n",
       "    }\n",
       "\n",
       "    .dataframe thead th {\n",
       "        text-align: right;\n",
       "    }\n",
       "</style>\n",
       "<table border=\"1\" class=\"dataframe\">\n",
       "  <thead>\n",
       "    <tr style=\"text-align: right;\">\n",
       "      <th></th>\n",
       "      <th>communityname</th>\n",
       "      <th>fold</th>\n",
       "      <th>population</th>\n",
       "      <th>householdsize</th>\n",
       "      <th>racepctblack</th>\n",
       "      <th>racePctWhite</th>\n",
       "      <th>racePctAsian</th>\n",
       "      <th>racePctHisp</th>\n",
       "      <th>agePct12t21</th>\n",
       "      <th>agePct12t29</th>\n",
       "      <th>...</th>\n",
       "      <th>NumStreet</th>\n",
       "      <th>PctForeignBorn</th>\n",
       "      <th>PctBornSameState</th>\n",
       "      <th>PctSameHouse85</th>\n",
       "      <th>PctSameCity85</th>\n",
       "      <th>PctSameState85</th>\n",
       "      <th>LandArea</th>\n",
       "      <th>PopDens</th>\n",
       "      <th>PctUsePubTrans</th>\n",
       "      <th>ViolentCrimesPerPop</th>\n",
       "    </tr>\n",
       "  </thead>\n",
       "  <tbody>\n",
       "    <tr>\n",
       "      <th>0</th>\n",
       "      <td>Lakewoodcity</td>\n",
       "      <td>1</td>\n",
       "      <td>0.19</td>\n",
       "      <td>0.33</td>\n",
       "      <td>0.02</td>\n",
       "      <td>0.90</td>\n",
       "      <td>0.12</td>\n",
       "      <td>0.17</td>\n",
       "      <td>0.34</td>\n",
       "      <td>0.47</td>\n",
       "      <td>...</td>\n",
       "      <td>0.0</td>\n",
       "      <td>0.12</td>\n",
       "      <td>0.42</td>\n",
       "      <td>0.50</td>\n",
       "      <td>0.51</td>\n",
       "      <td>0.64</td>\n",
       "      <td>0.12</td>\n",
       "      <td>0.26</td>\n",
       "      <td>0.20</td>\n",
       "      <td>0.20</td>\n",
       "    </tr>\n",
       "    <tr>\n",
       "      <th>1</th>\n",
       "      <td>Tukwilacity</td>\n",
       "      <td>1</td>\n",
       "      <td>0.00</td>\n",
       "      <td>0.16</td>\n",
       "      <td>0.12</td>\n",
       "      <td>0.74</td>\n",
       "      <td>0.45</td>\n",
       "      <td>0.07</td>\n",
       "      <td>0.26</td>\n",
       "      <td>0.59</td>\n",
       "      <td>...</td>\n",
       "      <td>0.0</td>\n",
       "      <td>0.21</td>\n",
       "      <td>0.50</td>\n",
       "      <td>0.34</td>\n",
       "      <td>0.60</td>\n",
       "      <td>0.52</td>\n",
       "      <td>0.02</td>\n",
       "      <td>0.12</td>\n",
       "      <td>0.45</td>\n",
       "      <td>0.67</td>\n",
       "    </tr>\n",
       "    <tr>\n",
       "      <th>2</th>\n",
       "      <td>Aberdeentown</td>\n",
       "      <td>1</td>\n",
       "      <td>0.00</td>\n",
       "      <td>0.42</td>\n",
       "      <td>0.49</td>\n",
       "      <td>0.56</td>\n",
       "      <td>0.17</td>\n",
       "      <td>0.04</td>\n",
       "      <td>0.39</td>\n",
       "      <td>0.47</td>\n",
       "      <td>...</td>\n",
       "      <td>0.0</td>\n",
       "      <td>0.14</td>\n",
       "      <td>0.49</td>\n",
       "      <td>0.54</td>\n",
       "      <td>0.67</td>\n",
       "      <td>0.56</td>\n",
       "      <td>0.01</td>\n",
       "      <td>0.21</td>\n",
       "      <td>0.02</td>\n",
       "      <td>0.43</td>\n",
       "    </tr>\n",
       "    <tr>\n",
       "      <th>3</th>\n",
       "      <td>Willingborotownship</td>\n",
       "      <td>1</td>\n",
       "      <td>0.04</td>\n",
       "      <td>0.77</td>\n",
       "      <td>1.00</td>\n",
       "      <td>0.08</td>\n",
       "      <td>0.12</td>\n",
       "      <td>0.10</td>\n",
       "      <td>0.51</td>\n",
       "      <td>0.50</td>\n",
       "      <td>...</td>\n",
       "      <td>0.0</td>\n",
       "      <td>0.19</td>\n",
       "      <td>0.30</td>\n",
       "      <td>0.73</td>\n",
       "      <td>0.64</td>\n",
       "      <td>0.65</td>\n",
       "      <td>0.02</td>\n",
       "      <td>0.39</td>\n",
       "      <td>0.28</td>\n",
       "      <td>0.12</td>\n",
       "    </tr>\n",
       "    <tr>\n",
       "      <th>4</th>\n",
       "      <td>Bethlehemtownship</td>\n",
       "      <td>1</td>\n",
       "      <td>0.01</td>\n",
       "      <td>0.55</td>\n",
       "      <td>0.02</td>\n",
       "      <td>0.95</td>\n",
       "      <td>0.09</td>\n",
       "      <td>0.05</td>\n",
       "      <td>0.38</td>\n",
       "      <td>0.38</td>\n",
       "      <td>...</td>\n",
       "      <td>0.0</td>\n",
       "      <td>0.11</td>\n",
       "      <td>0.72</td>\n",
       "      <td>0.64</td>\n",
       "      <td>0.61</td>\n",
       "      <td>0.53</td>\n",
       "      <td>0.04</td>\n",
       "      <td>0.09</td>\n",
       "      <td>0.02</td>\n",
       "      <td>0.03</td>\n",
       "    </tr>\n",
       "  </tbody>\n",
       "</table>\n",
       "<p>5 rows × 102 columns</p>\n",
       "</div>"
      ],
      "text/plain": [
       "         communityname  fold  population  householdsize  racepctblack  \\\n",
       "0         Lakewoodcity     1        0.19           0.33          0.02   \n",
       "1          Tukwilacity     1        0.00           0.16          0.12   \n",
       "2         Aberdeentown     1        0.00           0.42          0.49   \n",
       "3  Willingborotownship     1        0.04           0.77          1.00   \n",
       "4    Bethlehemtownship     1        0.01           0.55          0.02   \n",
       "\n",
       "   racePctWhite  racePctAsian  racePctHisp  agePct12t21  agePct12t29  ...  \\\n",
       "0          0.90          0.12         0.17         0.34         0.47  ...   \n",
       "1          0.74          0.45         0.07         0.26         0.59  ...   \n",
       "2          0.56          0.17         0.04         0.39         0.47  ...   \n",
       "3          0.08          0.12         0.10         0.51         0.50  ...   \n",
       "4          0.95          0.09         0.05         0.38         0.38  ...   \n",
       "\n",
       "   NumStreet  PctForeignBorn  PctBornSameState  PctSameHouse85  PctSameCity85  \\\n",
       "0        0.0            0.12              0.42            0.50           0.51   \n",
       "1        0.0            0.21              0.50            0.34           0.60   \n",
       "2        0.0            0.14              0.49            0.54           0.67   \n",
       "3        0.0            0.19              0.30            0.73           0.64   \n",
       "4        0.0            0.11              0.72            0.64           0.61   \n",
       "\n",
       "   PctSameState85  LandArea  PopDens  PctUsePubTrans  ViolentCrimesPerPop  \n",
       "0            0.64      0.12     0.26            0.20                 0.20  \n",
       "1            0.52      0.02     0.12            0.45                 0.67  \n",
       "2            0.56      0.01     0.21            0.02                 0.43  \n",
       "3            0.65      0.02     0.39            0.28                 0.12  \n",
       "4            0.53      0.04     0.09            0.02                 0.03  \n",
       "\n",
       "[5 rows x 102 columns]"
      ]
     },
     "execution_count": 2,
     "metadata": {},
     "output_type": "execute_result"
    }
   ],
   "source": [
    "#load data\n",
    "censuscrime = pd.read_csv('C:/Users/Nadia/Downloads/censusCrimeClean.csv')\n",
    "censuscrime.head()"
   ]
  },
  {
   "cell_type": "code",
   "execution_count": 4,
   "metadata": {},
   "outputs": [
    {
     "name": "stdout",
     "output_type": "stream",
     "text": [
      "0       0.37\n",
      "1       0.31\n",
      "2       0.30\n",
      "3       0.58\n",
      "4       0.50\n",
      "        ... \n",
      "1989    0.42\n",
      "1990    0.28\n",
      "1991    0.31\n",
      "1992    0.44\n",
      "1993    0.40\n",
      "Name: medIncome, Length: 1994, dtype: float64\n",
      "0       0.20\n",
      "1       0.67\n",
      "2       0.43\n",
      "3       0.12\n",
      "4       0.03\n",
      "        ... \n",
      "1989    0.09\n",
      "1990    0.45\n",
      "1991    0.23\n",
      "1992    0.19\n",
      "1993    0.48\n",
      "Name: ViolentCrimesPerPop, Length: 1994, dtype: float64\n"
     ]
    }
   ],
   "source": [
    "#save 2 columns as variables \n",
    "medianIncome = censuscrime['medIncome']\n",
    "print(medianIncome)\n",
    "violentcrimes = censuscrime['ViolentCrimesPerPop']\n",
    "print(violentcrimes)"
   ]
  },
  {
   "cell_type": "code",
   "execution_count": 8,
   "metadata": {},
   "outputs": [
    {
     "name": "stdout",
     "output_type": "stream",
     "text": [
      "Pearson Correlation coefficient is -0.424220616726126 with a p-value of 6.334424808048533e-88\n"
     ]
    }
   ],
   "source": [
    "#perform Pearson Correlation\n",
    "[pearson, ppvalue] = scipy.pearsonr(medianIncome, violentcrimes)\n",
    "print(\"Pearson Correlation coefficient is\", pearson, \"with a p-value of\", ppvalue)"
   ]
  },
  {
   "cell_type": "code",
   "execution_count": 9,
   "metadata": {},
   "outputs": [
    {
     "name": "stdout",
     "output_type": "stream",
     "text": [
      "Spearman Correlation coefficient is -0.482169950997556 with a p-value of 1.2978853095169542e-116\n"
     ]
    }
   ],
   "source": [
    "#Perform Spearman Correlation\n",
    "[spearman, spvalue] = scipy.spearmanr(medianIncome, violentcrimes)\n",
    "print(\"Spearman Correlation coefficient is\", spearman, \"with a p-value of\", spvalue)"
   ]
  },
  {
   "cell_type": "code",
   "execution_count": 10,
   "metadata": {},
   "outputs": [
    {
     "data": {
      "text/plain": [
       "Text(0, 0.5, 'Number of Violent Crimes per 100k Population')"
      ]
     },
     "execution_count": 10,
     "metadata": {},
     "output_type": "execute_result"
    },
    {
     "data": {
      "image/png": "[encoded data removed]",
      "text/plain": [
       "<Figure size 432x288 with 1 Axes>"
      ]
     },
     "metadata": {
      "needs_background": "light"
     },
     "output_type": "display_data"
    }
   ],
   "source": [
    "# Visualise using a Scatterplot\n",
    "plt.scatter(medianIncome, violentcrimes, alpha = 0.2)\n",
    "plt.xlabel(\"Median Household Income\")\n",
    "plt.ylabel(\"Number of Violent Crimes per 100k Population\")"
   ]
  },
  {
   "cell_type": "code",
   "execution_count": 11,
   "metadata": {},
   "outputs": [],
   "source": [
    "#Scatter plot shows negative correlation, agreeing with Pearsons coefficient\n",
    "#Spearman's correlation, unlike Pearson's, doesn't assume that both the datasets are normally distributed, but still shows negative correlation"
   ]
  },
  {
   "cell_type": "code",
   "execution_count": 12,
   "metadata": {},
   "outputs": [
    {
     "name": "stdout",
     "output_type": "stream",
     "text": [
      "Pearson Correlation coefficient is 0.0993466802092155 with a p-value of 8.811040969646864e-06\n",
      "Spearman Correlation coefficient is 0.3234638360172681 with a p-value of 8.622906648052271e-50\n"
     ]
    },
    {
     "data": {
      "text/plain": [
       "Text(0, 0.5, 'Number of Violent Crimes per 100k Population')"
      ]
     },
     "execution_count": 12,
     "metadata": {},
     "output_type": "execute_result"
    },
    {
     "data": {
      "image/png": "[encoded data removed]",
      "text/plain": [
       "<Figure size 432x288 with 1 Axes>"
      ]
     },
     "metadata": {
      "needs_background": "light"
     },
     "output_type": "display_data"
    }
   ],
   "source": [
    "#comparing different columns\n",
    "youngadults = censuscrime['agePct16t24']\n",
    "\n",
    "#perform Pearson Correlation\n",
    "[pearson, ppvalue] = scipy.pearsonr(youngadults, violentcrimes)\n",
    "print(\"Pearson Correlation coefficient is\", pearson, \"with a p-value of\", ppvalue)\n",
    "\n",
    "#Perform Spearman Correlation\n",
    "[spearman, spvalue] = scipy.spearmanr(youngadults, violentcrimes)\n",
    "print(\"Spearman Correlation coefficient is\", spearman, \"with a p-value of\", spvalue)\n",
    "\n",
    "# Visualise using a Scatterplot\n",
    "plt.scatter(youngadults, violentcrimes, alpha = 0.2)\n",
    "plt.xlabel(\"Percentage of Population aged 16-24\")\n",
    "plt.ylabel(\"Number of Violent Crimes per 100k Population\")"
   ]
  },
  {
   "cell_type": "markdown",
   "metadata": {},
   "source": [
    "Significance Testing"
   ]
  },
  {
   "cell_type": "code",
   "execution_count": 13,
   "metadata": {},
   "outputs": [
    {
     "data": {
      "text/html": [
       "<div>\n",
       "<style scoped>\n",
       "    .dataframe tbody tr th:only-of-type {\n",
       "        vertical-align: middle;\n",
       "    }\n",
       "\n",
       "    .dataframe tbody tr th {\n",
       "        vertical-align: top;\n",
       "    }\n",
       "\n",
       "    .dataframe thead th {\n",
       "        text-align: right;\n",
       "    }\n",
       "</style>\n",
       "<table border=\"1\" class=\"dataframe\">\n",
       "  <thead>\n",
       "    <tr style=\"text-align: right;\">\n",
       "      <th></th>\n",
       "      <th>age</th>\n",
       "      <th>sex</th>\n",
       "      <th>cp</th>\n",
       "      <th>trestbps</th>\n",
       "      <th>chol</th>\n",
       "      <th>fbs</th>\n",
       "      <th>restecg</th>\n",
       "      <th>thalach</th>\n",
       "      <th>exang</th>\n",
       "      <th>oldpeak</th>\n",
       "      <th>slope</th>\n",
       "      <th>ca</th>\n",
       "      <th>thal</th>\n",
       "      <th>target</th>\n",
       "    </tr>\n",
       "  </thead>\n",
       "  <tbody>\n",
       "    <tr>\n",
       "      <th>0</th>\n",
       "      <td>63</td>\n",
       "      <td>1</td>\n",
       "      <td>3</td>\n",
       "      <td>145</td>\n",
       "      <td>233</td>\n",
       "      <td>1</td>\n",
       "      <td>0</td>\n",
       "      <td>150</td>\n",
       "      <td>0</td>\n",
       "      <td>2.3</td>\n",
       "      <td>0</td>\n",
       "      <td>0</td>\n",
       "      <td>1</td>\n",
       "      <td>1</td>\n",
       "    </tr>\n",
       "    <tr>\n",
       "      <th>1</th>\n",
       "      <td>37</td>\n",
       "      <td>1</td>\n",
       "      <td>2</td>\n",
       "      <td>130</td>\n",
       "      <td>250</td>\n",
       "      <td>0</td>\n",
       "      <td>1</td>\n",
       "      <td>187</td>\n",
       "      <td>0</td>\n",
       "      <td>3.5</td>\n",
       "      <td>0</td>\n",
       "      <td>0</td>\n",
       "      <td>2</td>\n",
       "      <td>1</td>\n",
       "    </tr>\n",
       "    <tr>\n",
       "      <th>2</th>\n",
       "      <td>41</td>\n",
       "      <td>0</td>\n",
       "      <td>1</td>\n",
       "      <td>130</td>\n",
       "      <td>204</td>\n",
       "      <td>0</td>\n",
       "      <td>0</td>\n",
       "      <td>172</td>\n",
       "      <td>0</td>\n",
       "      <td>1.4</td>\n",
       "      <td>2</td>\n",
       "      <td>0</td>\n",
       "      <td>2</td>\n",
       "      <td>1</td>\n",
       "    </tr>\n",
       "    <tr>\n",
       "      <th>3</th>\n",
       "      <td>56</td>\n",
       "      <td>1</td>\n",
       "      <td>1</td>\n",
       "      <td>120</td>\n",
       "      <td>236</td>\n",
       "      <td>0</td>\n",
       "      <td>1</td>\n",
       "      <td>178</td>\n",
       "      <td>0</td>\n",
       "      <td>0.8</td>\n",
       "      <td>2</td>\n",
       "      <td>0</td>\n",
       "      <td>2</td>\n",
       "      <td>1</td>\n",
       "    </tr>\n",
       "    <tr>\n",
       "      <th>4</th>\n",
       "      <td>57</td>\n",
       "      <td>0</td>\n",
       "      <td>0</td>\n",
       "      <td>120</td>\n",
       "      <td>354</td>\n",
       "      <td>0</td>\n",
       "      <td>1</td>\n",
       "      <td>163</td>\n",
       "      <td>1</td>\n",
       "      <td>0.6</td>\n",
       "      <td>2</td>\n",
       "      <td>0</td>\n",
       "      <td>2</td>\n",
       "      <td>1</td>\n",
       "    </tr>\n",
       "  </tbody>\n",
       "</table>\n",
       "</div>"
      ],
      "text/plain": [
       "   age  sex  cp  trestbps  chol  fbs  restecg  thalach  exang  oldpeak  slope  \\\n",
       "0   63    1   3       145   233    1        0      150      0      2.3      0   \n",
       "1   37    1   2       130   250    0        1      187      0      3.5      0   \n",
       "2   41    0   1       130   204    0        0      172      0      1.4      2   \n",
       "3   56    1   1       120   236    0        1      178      0      0.8      2   \n",
       "4   57    0   0       120   354    0        1      163      1      0.6      2   \n",
       "\n",
       "   ca  thal  target  \n",
       "0   0     1       1  \n",
       "1   0     2       1  \n",
       "2   0     2       1  \n",
       "3   0     2       1  \n",
       "4   0     2       1  "
      ]
     },
     "execution_count": 13,
     "metadata": {},
     "output_type": "execute_result"
    }
   ],
   "source": [
    "#load data\n",
    "heart = pd.read_csv('C:/Users/Nadia/Downloads/heart.csv')\n",
    "heart.head()"
   ]
  },
  {
   "cell_type": "code",
   "execution_count": 14,
   "metadata": {},
   "outputs": [
    {
     "name": "stdout",
     "output_type": "stream",
     "text": [
      "   age  sex  cp  trestbps  chol  fbs  restecg  thalach  exang  oldpeak  slope  \\\n",
      "0   63    1   3       145   233    1        0      150      0      2.3      0   \n",
      "1   37    1   2       130   250    0        1      187      0      3.5      0   \n",
      "2   41    0   1       130   204    0        0      172      0      1.4      2   \n",
      "3   56    1   1       120   236    0        1      178      0      0.8      2   \n",
      "4   57    0   0       120   354    0        1      163      1      0.6      2   \n",
      "\n",
      "   ca  thal  target  gender hasHeartDisease  \n",
      "0   0     1       1    Male           False  \n",
      "1   0     2       1    Male           False  \n",
      "2   0     2       1  Female           False  \n",
      "3   0     2       1    Male           False  \n",
      "4   0     2       1  Female           False  \n"
     ]
    }
   ],
   "source": [
    "#Does the resting blood pressure (trestbps) differ between those with the disease and those without? \n",
    "#creating gender and hasHeartDisease columns\n",
    "heart['gender'] = heart.sex.replace({1: \"Male\", 0: \"Female\"})\n",
    "heart['hasHeartDisease'] = heart.target.replace({1: \"False\", 0: \"True\"})\n",
    "print(heart.head())"
   ]
  },
  {
   "cell_type": "code",
   "execution_count": 24,
   "metadata": {},
   "outputs": [
    {
     "name": "stdout",
     "output_type": "stream",
     "text": [
      "total mean resting blood pressure is 131.62376237623764\n",
      "total standard deviation of resting blood pressue is 17.53814281351709\n",
      "mean with disease 134.3985507246377\n",
      "mean without disease 129.3030303030303\n",
      "standard deviation with disease 18.72994396158135\n",
      "standard deviation without disease 16.16961326687487\n"
     ]
    }
   ],
   "source": [
    "#calculating the mean and standard deviation\n",
    "mean = heart['trestbps'].mean()\n",
    "print(\"total mean resting blood pressure is\", mean)\n",
    "std = heart['trestbps'].std()\n",
    "print(\"total standard deviation of resting blood pressue is\", std)\n",
    "\n",
    "diseased = heart[heart.hasHeartDisease == 'True']\n",
    "nodisease = heart[heart.hasHeartDisease == 'False']\n",
    "\n",
    "print(\"mean with disease\", diseased.trestbps.mean())\n",
    "print(\"mean without disease\", nodisease.trestbps.mean())\n",
    "print(\"standard deviation with disease\", diseased.trestbps.std())\n",
    "print(\"standard deviation without disease\", nodisease.trestbps.std())"
   ]
  },
  {
   "cell_type": "code",
   "execution_count": 27,
   "metadata": {},
   "outputs": [
    {
     "data": {
      "text/plain": [
       "[Text(0.5, 1.0, \"Doesn't have Heart Disease\")]"
      ]
     },
     "execution_count": 27,
     "metadata": {},
     "output_type": "execute_result"
    },
    {
     "data": {
      "image/png": "[encoded data removed]",
      "text/plain": [
       "<Figure size 432x288 with 2 Axes>"
      ]
     },
     "metadata": {
      "needs_background": "light"
     },
     "output_type": "display_data"
    },
    {
     "data": {
      "image/png": "[encoded data removed]",
      "text/plain": [
       "<Figure size 432x288 with 2 Axes>"
      ]
     },
     "metadata": {
      "needs_background": "light"
     },
     "output_type": "display_data"
    }
   ],
   "source": [
    "#create boxplots and histograms to compare means and distributions\n",
    "fig, axes = plt.subplots(ncols=2,sharey=True)\n",
    "axes[0].hist(diseased.trestbps, 20)\n",
    "axes[0].set(title = \"Has Heart Disease\")\n",
    "axes[1].hist(nodisease.trestbps, 20)\n",
    "axes[1].set(title = \"Doesn't have Heart Disease\")\n",
    "\n",
    "fig, axes = plt.subplots(ncols=2,sharey=True)\n",
    "axes[0].boxplot(diseased.trestbps)\n",
    "axes[0].set(title = \"Has Heart Disease\")\n",
    "axes[1].boxplot(nodisease.trestbps)\n",
    "axes[1].set(title = \"Doesn't have Heart Disease\")"
   ]
  },
  {
   "cell_type": "code",
   "execution_count": 31,
   "metadata": {},
   "outputs": [
    {
     "name": "stdout",
     "output_type": "stream",
     "text": [
      "Ttest_indResult(statistic=2.5083466038526687, pvalue=0.012710946533525032)\n"
     ]
    }
   ],
   "source": [
    "#perform a t-test to compare the means\n",
    "ttest = scipy.ttest_ind(diseased.trestbps, nodisease.trestbps, equal_var = False)\n",
    "print(ttest)"
   ]
  },
  {
   "cell_type": "code",
   "execution_count": 32,
   "metadata": {},
   "outputs": [],
   "source": [
    "# p-value is 0.01 which is \"highly significant\". This indicates that the difference is large enough to suggest that it exists in the population"
   ]
  },
  {
   "cell_type": "code",
   "execution_count": 39,
   "metadata": {},
   "outputs": [
    {
     "name": "stdout",
     "output_type": "stream",
     "text": [
      "138\n",
      "165\n",
      "350.8108008039776\n",
      "261.4563932002958\n",
      "17.381772271328867\n",
      "134.3985507246377\n",
      "129.3030303030303\n",
      "Cohen's d is 0.29315309981436166\n"
     ]
    }
   ],
   "source": [
    "#Calculate Cohens d\n",
    "#calculate sample sizes\n",
    "n1 = len(diseased)\n",
    "print(n1)\n",
    "n2 = len(nodisease)\n",
    "print(n2)\n",
    "\n",
    "#calculate variance\n",
    "s1 = np.var(diseased.trestbps, ddof=1)\n",
    "print(s1)\n",
    "s2 = np.var(nodisease.trestbps, ddof =1)\n",
    "print(s2)\n",
    "\n",
    "#calculate pooled standard deviation\n",
    "s = np.sqrt(((n1 -1) *s1 + (n2 -1) *s2)/ (n1 + n2 - 2))\n",
    "print(s)\n",
    "\n",
    "#calculate means of samples\n",
    "u1 = diseased.trestbps.mean()\n",
    "print(u1)\n",
    "u2 = nodisease.trestbps.mean()\n",
    "print(u2)\n",
    "\n",
    "#calcluate cohen's d\n",
    "d = (u1 - u2)/s\n",
    "print(\"Cohen's d is\", d)"
   ]
  },
  {
   "cell_type": "code",
   "execution_count": 40,
   "metadata": {},
   "outputs": [],
   "source": [
    "#cohen's d measures the difference between the means. \n",
    "#0.293 means there is a small effect size"
   ]
  },
  {
   "cell_type": "code",
   "execution_count": 41,
   "metadata": {},
   "outputs": [],
   "source": [
    "#Is the Proportion of men and women who get heart disease the same?"
   ]
  },
  {
   "cell_type": "code",
   "execution_count": 42,
   "metadata": {},
   "outputs": [
    {
     "name": "stdout",
     "output_type": "stream",
     "text": [
      "        diseasedcount  totalcount  propHeartDisease\n",
      "gender                                             \n",
      "Female             24          96          0.250000\n",
      "Male              114         207          0.550725\n"
     ]
    }
   ],
   "source": [
    "#count number with the disease for each gender \n",
    "diseasedcount= diseased.groupby(\"gender\").count().hasHeartDisease\n",
    "\n",
    "#count number of gender type\n",
    "totalcount = heart.groupby(\"gender\").count()['hasHeartDisease']\n",
    "\n",
    "#combine into data frame and specify columns\n",
    "p = pd.concat([diseasedcount, totalcount], axis=1)\n",
    "p.columns = [\"diseasedcount\", \"totalcount\"]\n",
    "\n",
    "#create new column and calculate the proportion\n",
    "p['propHeartDisease'] = p[\"diseasedcount\"]/p[\"totalcount\"]\n",
    "print(p.head())"
   ]
  },
  {
   "cell_type": "code",
   "execution_count": 44,
   "metadata": {},
   "outputs": [
    {
     "name": "stdout",
     "output_type": "stream",
     "text": [
      "0.45544554455445546\n"
     ]
    }
   ],
   "source": [
    "#calculate proportion of people with heart disease\n",
    "p_fe = p.propHeartDisease.Female\n",
    "p_male = p.propHeartDisease.Male\n",
    "\n",
    "p = len(heart[heart['hasHeartDisease']=='True'])/len(heart)\n",
    "print(p)"
   ]
  },
  {
   "cell_type": "code",
   "execution_count": 48,
   "metadata": {},
   "outputs": [
    {
     "name": "stdout",
     "output_type": "stream",
     "text": [
      "Standard Error is 0.06149494420532701\n"
     ]
    }
   ],
   "source": [
    "#calculate standard erorr\n",
    "n1 = totalcount.Female\n",
    "n2 = totalcount.Male\n",
    "se = np.sqrt(p*(1-p)*(1/n1 + 1/n2))\n",
    "print(\"Standard Error is\", se)"
   ]
  },
  {
   "cell_type": "code",
   "execution_count": 51,
   "metadata": {},
   "outputs": [],
   "source": [
    "#calculate the best estimate\n",
    "be = p_fe - p_male  "
   ]
  },
  {
   "cell_type": "code",
   "execution_count": 52,
   "metadata": {},
   "outputs": [],
   "source": [
    "#Calculate the hypothesized estimate\n",
    "#Our null hypothesis is p1 - p2 = 0\n",
    "he = 0"
   ]
  },
  {
   "cell_type": "code",
   "execution_count": 56,
   "metadata": {},
   "outputs": [
    {
     "name": "stdout",
     "output_type": "stream",
     "text": [
      "Test Stat is -4.890233523540771\n"
     ]
    }
   ],
   "source": [
    "#Calculate the test statistic\n",
    "teststat = (be - he)/se\n",
    "print(\"Test Stat is\", teststat)"
   ]
  },
  {
   "cell_type": "code",
   "execution_count": 60,
   "metadata": {},
   "outputs": [
    {
     "name": "stdout",
     "output_type": "stream",
     "text": [
      "P-Value is 1.0071642033238867e-06\n"
     ]
    }
   ],
   "source": [
    "#calculate p-value\n",
    "pvalue = 2*dist.norm.cdf(-np.abs(teststat))\n",
    "print(\"P-Value is\", pvalue)"
   ]
  },
  {
   "cell_type": "code",
   "execution_count": 61,
   "metadata": {},
   "outputs": [],
   "source": [
    "#can reject null hypothesis that there is no difference"
   ]
  },
  {
   "cell_type": "code",
   "execution_count": null,
   "metadata": {},
   "outputs": [],
   "source": []
  }
 ],
 "metadata": {
  "kernelspec": {
   "display_name": "Python 3",
   "language": "python",
   "name": "python3"
  },
  "language_info": {
   "codemirror_mode": {
    "name": "ipython",
    "version": 3
   },
   "file_extension": ".py",
   "mimetype": "text/x-python",
   "name": "python",
   "nbconvert_exporter": "python",
   "pygments_lexer": "ipython3",
   "version": "3.7.6"
  }
 },
 "nbformat": 4,
 "nbformat_minor": 4
}
